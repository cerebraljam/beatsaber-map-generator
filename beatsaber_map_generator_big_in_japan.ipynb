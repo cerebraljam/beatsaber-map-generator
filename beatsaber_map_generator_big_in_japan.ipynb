{
 "cells": [
  {
   "cell_type": "markdown",
   "id": "legal-settle",
   "metadata": {},
   "source": [
    "# Beat Saber - Generated Maps Algorythmically, Mostly For Fun, No Profit\n",
    "\n",
    "There is this [Beat Sage](https://beatsage.com/) map generator powered by AI that seems to be working well. The results looks fun.\n",
    "\n",
    "Still, I was curious to see if it would be possible to generate maps through probabilities, based on observed patterns from existing maps.\n",
    "\n",
    "The strategy was to take existing maps, break them into sequences (2 beats per sequence seems like a good balance), take note of which sequence follows which ones, and then randomly generate new maps based on these known patterns.\n",
    "\n",
    "That worked well, but it felt a bit random and didn't really follow the intensity of the songs I tried it on. When the whole song has about the same intensity level, it doesn't matter, but not for the ones with a drop.\n",
    "\n",
    "Compared to the Beat Sage AI backed generator, I don't really control what are the potential sequences I am getting at what point in the song, so I kind of have to do my best with what I have.\n",
    "\n",
    "The following code demonstrates the approach I took. and given that it fits in 23 short blocks of code, and isn't requiring a great amount of GPU processing, I think it's fine for the fun I can get with the result.\n",
    "\n",
    "In this example, I will use maps created by [Dee-Dee](https://bsaber.com/members/dee-dee/), [Nixie.Korten](https://bsaber.com/members/Nixie.Korten/) and [misterlihao](https://bsaber.com/members/misterlihao/), mainly because their maps tend to have a nice flow. The results will tend to be quite different depending on the tracks that are used for the training. Going all in with all the custom tracks I might have on my computer produced too much randomness, so targeting on a specific style seems to work better.\n",
    "\n",
    "\n",
    "This notebook generates a map for the song [Big In Japan by Alphaville](https://www.youtube.com/embed/_IYjBCLKmBE). This first version was without the automatic lighting effects.\n",
    "\n",
    "I also rendered a map for `Maria [I Like It Loud]` by Scooter after adding automatic lighting capabilities. The result can be seen on [Youtube](https://youtu.be/iQaO4YG7Su0)"
   ]
  },
  {
   "cell_type": "markdown",
   "id": "competitive-default",
   "metadata": {},
   "source": [
    "## How to use this code\n",
    "\n",
    "[Beastsaber has excellent instructions](https://bsaber.com/getting-started/mapping/) explaining how to prepare an audio file for mapping.\n",
    "\n",
    "At a high level, the following steps are necessary:\n",
    "1. Software Setup: Download the necessary tools for mapping: an [audio editor](https://www.audacityteam.org/) and a [map editor](https://bsmg.wiki/mapping/#map-editing-resources).\n",
    "2. Audio Setup: [Set up your audio file](https://bsmg.wiki/mapping/basic-audio.html), find and confirm the BPM, and export in OGG format.\n",
    "    * Adding 8 full beat before the song starts gives some time to see the first blocks comming\n",
    "   \n",
    "3. Editor Setup & Mapping: Set up your song in your [mapping editor](https://bsmg.wiki/mapping/#community-editors) (we recommend MMA2) and get mapping! Review [basic mapping practices](https://bsmg.wiki/mapping/basic-mapping.html) before you start. [Playtest](https://bsmg.wiki/mapping/#playtesting) your own work early and often.\n",
    "\n",
    "<- This is where we can insert ourselves in the creation process\n",
    "\n",
    "4. Lighting: Review [basic lighting information](https://bsmg.wiki/mapping/#lighting-practices). Simple manual lighting is easier than you think!\n",
    "5. ~Playtesting: Third-party playtesting via the BSMG Discord is highly recommended to get constructive feedback and to get past your own “map blindness.~\n",
    "6. ~Release Your  Map: Once your song has been mapped, lighted, and playtested you’re ready to release your song to the world on BeatSaver (it will mirror here to BeastSaber in a few minutes).~\n",
    "\n",
    "^ About the two last steps: the result will be quite random, and not worthy of standing along all the great work from real mappers. "
   ]
  },
  {
   "cell_type": "code",
   "execution_count": 1,
   "id": "instant-somerset",
   "metadata": {},
   "outputs": [],
   "source": [
    "import json\n",
    "import random\n",
    "from os.path import exists\n",
    "import os\n",
    "\n",
    "import numpy as np\n",
    "import matplotlib.pyplot as plt\n",
    "import scipy.io.wavfile as wavfile\n",
    "\n",
    "import math\n",
    "import soundfile as sf"
   ]
  },
  {
   "cell_type": "markdown",
   "id": "curious-mentor",
   "metadata": {},
   "source": [
    "## Configuration\n",
    "\n",
    "Location of the customeLevels and WIP levels, as well as the difficulty used for training"
   ]
  },
  {
   "cell_type": "code",
   "execution_count": 2,
   "id": "rubber-growth",
   "metadata": {},
   "outputs": [],
   "source": [
    "customLevels_folder = \"/mnt/c/Program Files/Oculus/Software/Software/hyperbolic-magnetism-beat-saber/Beat Saber_Data/CustomLevels/\"\n",
    "customWIPLevels_folder = \"/mnt/c/Program Files/Oculus/Software/Software/hyperbolic-magnetism-beat-saber/Beat Saber_Data/CustomWIPLevels\"\n",
    "difficulty = \"ExpertStandard.dat\"\n",
    "\n",
    "\n",
    "assert exists(customLevels_folder) == True, f\"customLevels folder {customLevels_folder} should exists\"\n",
    "assert exists(customWIPLevels_folder) == True, f\"customWIPLevels folder {customWIPLevels_folder} should exists\""
   ]
  },
  {
   "cell_type": "markdown",
   "id": "blond-utility",
   "metadata": {},
   "source": [
    "## Songs used for training\n",
    "\n",
    "For this, I am searching for folders in the customeLevels folder, and uses any song matching one of listed keywords"
   ]
  },
  {
   "cell_type": "code",
   "execution_count": 3,
   "id": "patient-digit",
   "metadata": {},
   "outputs": [
    {
     "name": "stdout",
     "output_type": "stream",
     "text": [
      "Number of songs used for training: 31\n"
     ]
    },
    {
     "data": {
      "text/plain": [
       "['1a0b9 (Lone Digger - Nixie.Korten)',\n",
       " '1a0be (Wonderland - Nixie.Korten)',\n",
       " '1f5a3 (もーいいかい - misterlihao)',\n",
       " '1f767 (アリスブルー - misterlihao)',\n",
       " '205d1 (くうになる - misterlihao)',\n",
       " '20ac4 (About You - DeeDee)',\n",
       " '20ac8 (Pepas - Dee-Dee)',\n",
       " '21307 (ただ声一つ - misterlihao)',\n",
       " '21333 (全部君のせいだ - misterlihao)',\n",
       " '21979 (フクロウさん - misterlihao)',\n",
       " '22846 (バニー - misterlihao)',\n",
       " '22e63 ( - misterlihao)',\n",
       " '240f4 (Loco - Dee-Dee)',\n",
       " '24829 (まってるよ - misterlihao)',\n",
       " '24b52 (今日とまだバイバイしたくないの - misterlihao)',\n",
       " '24f18 (和音 - misterlihao)',\n",
       " '250af (うらたねこ♀ - misterlihao)',\n",
       " '2528b (おにけもだんす - misterlihao)',\n",
       " '25306 (AHAREN HEART - misterlihao)',\n",
       " '254a8 (感情ディシーブ - misterlihao)',\n",
       " '25a6b (Supersonic - Dee-Dee)',\n",
       " '260d1 (えすけーぷ - misterlihao)',\n",
       " '270ed (WOW BB - DeeDee)',\n",
       " '271da (All Night - Nixie.Korten)',\n",
       " '271db (Bom Bom - Nixie.Korten)',\n",
       " '271df (Perfume - Nixie.Korten)',\n",
       " '271e0 (Light Up The Night - Nixie.Korten)',\n",
       " '271e1 (Mr Magpie - Nixie.Korten)',\n",
       " '271e4 (Wake Up Romeo - Nixie.Korten)',\n",
       " '27593 (推し変なんて許さない！ - misterlihao)',\n",
       " '27a7d (Calabria - DeeDee)']"
      ]
     },
     "execution_count": 3,
     "metadata": {},
     "output_type": "execute_result"
    }
   ],
   "source": [
    "filters = [\"dee\", \"nixie\", \"misterlihao\"]\n",
    "\n",
    "notes_files = [\n",
    "    x for x in os.listdir(customLevels_folder)\n",
    "    if any(y in x.lower() for y in filters)\n",
    "]\n",
    "\n",
    "print('Number of songs used for training:', len(notes_files))\n",
    "notes_files"
   ]
  },
  {
   "cell_type": "markdown",
   "id": "given-furniture",
   "metadata": {},
   "source": [
    "## Output file configuration"
   ]
  },
  {
   "cell_type": "code",
   "execution_count": 4,
   "id": "comparative-danish",
   "metadata": {},
   "outputs": [],
   "source": [
    "# MODIFY ME\n",
    "song_output_folder = \"Alphaville - Big In Japan - 97.79\"\n",
    "\n",
    "first_beat = 16\n",
    "last_beat = 368"
   ]
  },
  {
   "cell_type": "code",
   "execution_count": 5,
   "id": "challenging-glass",
   "metadata": {},
   "outputs": [],
   "source": [
    "# probably ok to leave me unmodified\n",
    "\n",
    "# uses two beats for one sequence of blocks\n",
    "# longer sequences (ex.: 4) reduces the randomness since it reduces the potential possibility of \n",
    "# chaining sequences\n",
    "sequence_length = 2 \n",
    "\n",
    "# precision: break each beat in 8 parts. 1/8 of a beat. necessary for fast songs. \n",
    "# having this too low could cause block overlay\n",
    "precision = 8 "
   ]
  },
  {
   "cell_type": "markdown",
   "id": "demonstrated-combat",
   "metadata": {},
   "source": [
    "## Confirming configurations"
   ]
  },
  {
   "cell_type": "code",
   "execution_count": 6,
   "id": "surrounded-basic",
   "metadata": {
    "scrolled": false
   },
   "outputs": [
    {
     "data": {
      "text/plain": [
       "{'_version': '2.0.0',\n",
       " '_songName': 'Big In Japan',\n",
       " '_songSubName': '',\n",
       " '_songAuthorName': 'Alphaville',\n",
       " '_levelAuthorName': 'unknow',\n",
       " '_beatsPerMinute': 97.79000091552734,\n",
       " '_shuffle': 0,\n",
       " '_shufflePeriod': 0.5,\n",
       " '_previewStartTime': 12,\n",
       " '_previewDuration': 10,\n",
       " '_songFilename': 'song.ogg',\n",
       " '_coverImageFilename': 'cover.jpg',\n",
       " '_environmentName': 'PanicEnvironment',\n",
       " '_songTimeOffset': 0,\n",
       " '_customData': {'_contributors': [],\n",
       "  '_editors': {'MMA2': {'version': '4.8.4'}, '_lastEditedBy': 'MMA2'}},\n",
       " '_difficultyBeatmapSets': [{'_beatmapCharacteristicName': 'Standard',\n",
       "   '_difficultyBeatmaps': [{'_difficulty': 'Expert',\n",
       "     '_difficultyRank': 7,\n",
       "     '_beatmapFilename': 'ExpertStandard.dat',\n",
       "     '_noteJumpMovementSpeed': 16,\n",
       "     '_noteJumpStartBeatOffset': 0,\n",
       "     '_customData': {'_editorOffset': 0,\n",
       "      '_editorOldOffset': 0,\n",
       "      '_warnings': [],\n",
       "      '_information': [],\n",
       "      '_suggestions': [],\n",
       "      '_requirements': []}}]}]}"
      ]
     },
     "execution_count": 6,
     "metadata": {},
     "output_type": "execute_result"
    }
   ],
   "source": [
    "output_file = \"{}/{}/{}\".format(customWIPLevels_folder, song_output_folder, difficulty)\n",
    "output_info_dat_file = \"{}/{}/Info.dat\".format(customWIPLevels_folder, song_output_folder)\n",
    "assert exists(output_info_dat_file), f\"info file should exists in the song_output_folder\" \n",
    "assert exists(output_file), f\"output file {song_output_folder}/{difficulty} should exist\"\n",
    "\n",
    "with open(output_info_dat_file) as f:\n",
    "    info_dat = json.load(f)\n",
    "    song_key = \"_songFilename\"\n",
    "    bpm_key = \"_beatsPerMinute\"\n",
    "    song_file_key = \"_songFilename\"\n",
    "    song_file_name = info_dat[song_file_key]\n",
    "    audio_file = \"{}/{}/{}\".format(customWIPLevels_folder, song_output_folder, song_file_name)\n",
    "\n",
    "# print(\"* checking that the song file exists in the song_output_folder\")\n",
    "assert exists(audio_file), f\"song file {info_dat[song_file_key]} should exist\"\n",
    "\n",
    "# print(\"* checking that the _beatsPerMinute value is configured\")\n",
    "assert bpm_key in info_dat.keys(), f\"key {bpm_key} should be in info_dat.keys(): {bpm_key in info_dat.keys()}\"\n",
    "assert info_dat[\"_beatsPerMinute\"] > 0.0, f\"{bpm_key} should have a value greater than zero: {info_dat[bpm_key]}\"\n",
    "\n",
    "# the info.dat file looks like this\n",
    "info_dat"
   ]
  },
  {
   "cell_type": "markdown",
   "id": "synthetic-empty",
   "metadata": {},
   "source": [
    "## How Blocks Are Encoded\n",
    "\n",
    "ExpertStandard.dat is a JSON file, and contains multiple sections. The one that is interesting is the \"_notes\" section, which contains a long series of entries like the folowing:"
   ]
  },
  {
   "cell_type": "code",
   "execution_count": 7,
   "id": "ancient-investor",
   "metadata": {},
   "outputs": [],
   "source": [
    "sample_block = {\n",
    "  \"_time\" : 25.5,\n",
    "  \"_lineIndex\" : 3,\n",
    "  \"_lineLayer\" : 1,\n",
    "  \"_type\" : 1,\n",
    "  \"_cutDirection\" : 0\n",
    "}"
   ]
  },
  {
   "cell_type": "markdown",
   "id": "executive-mistress",
   "metadata": {},
   "source": [
    "The `_time` key identifies the beat where that specific entry will show up.\n",
    "\n",
    "The following lines are a bit more cryptic, but here is a lookup table, and with which charactor I translate them when I flatten each block for processing.\n",
    "\n",
    "\n",
    "Columns. translated by the idx directly\n",
    "* _lineIndex: 0 \"far left column\"\n",
    "* _lineIndex: 1 \"center left column\"\n",
    "* _lineIndex: 2 \"center right column\"\n",
    "* _lineIndex: 3 \"far right column\"\n",
    "\n",
    "Layer. translated by the first column of letters on my keyboard\n",
    "* _lineLayer: 0 \"bottom\" \"z\"\n",
    "* _lineLayer: 1 \"middle\" \"a\"\n",
    "* _lineLayer: 2 \"top\" \"q\"\n",
    "\n",
    "Block type. \n",
    "* _type: 0 \"red\" \"r\"\n",
    "* _type: 1 \"blue\" \"b\"\n",
    "* _type: 3 \"bomb\" \"x\"\n",
    "\n",
    "Cut Direction. I don't have a numeric keypad on my keyboard, so I used the left secton to represent them.\n",
    "* _cutDirection: 0 \"up\" w\n",
    "* _cutDirection: 1 \"down\" x\n",
    "* _cutDirection: 2 \"left\" a\n",
    "* _cutDirection: 3 \"right\" d\n",
    "* _cutDirection: 4 \"up left\"  q\n",
    "* _cutDirection: 5 \"up right\" e\n",
    "* _cutDirection: 6 \"down left\" z\n",
    "* _cutDirection: 7 \"down right\" c\n",
    "* _cutDirection: 8 \"all\" s\n"
   ]
  },
  {
   "cell_type": "markdown",
   "id": "forbidden-textbook",
   "metadata": {},
   "source": [
    "## How Lighting is encoded\n",
    "\n",
    "The lighting track (`_events` key in the ExpertStandard.dat JSON file) is a lot more complex than the `_notes` track.\n",
    "\n",
    "A single lighting event looks like this:"
   ]
  },
  {
   "cell_type": "code",
   "execution_count": 8,
   "id": "fossil-naples",
   "metadata": {},
   "outputs": [],
   "source": [
    "sample_light = {\n",
    "    \"_time\": 52.5,\n",
    "    \"_type\": 1,\n",
    "    \"_value\": 5,\n",
    "}"
   ]
  },
  {
   "cell_type": "markdown",
   "id": "proved-briefing",
   "metadata": {},
   "source": [
    "The pairs of `_type` and `_value` maps to specific conditions, which looks like this\n",
    "\n",
    "![beat_saber_lighting_track.png](attachment:beat_saber_lighting_track.png)\n",
    "\n",
    "A major difference with the blocks is that some of these lights are toggles. They will go on, and stay on until they are turned off, which makes it harder train on since a certain light might be turned off a few sequences later, completely out of context with when it was activated."
   ]
  },
  {
   "cell_type": "markdown",
   "id": "under-amber",
   "metadata": {},
   "source": [
    "## Function that translates the nodes into a pattern string"
   ]
  },
  {
   "cell_type": "code",
   "execution_count": 9,
   "id": "suffering-cookbook",
   "metadata": {},
   "outputs": [],
   "source": [
    "layer = \"zaq\"\n",
    "colour = \"rb?x\"\n",
    "cut_dir = \"wxadqezcs\"\n",
    "\n",
    "lighting_type = \"abcdefghijklmnopqrstuvwxyz1234567890ABCDEFGHIJKLMNOPQRSTUVWXYZ\"\n",
    "lighting_value = \"abcdefghijklmnopqrstuvwxyz1234567890ABCDEFGHIJKLMNOPQRSTUVWXYZ\"\n",
    "\n",
    "# def encode_block(note):\n",
    "#     try:\n",
    "#         return str(note[\"_lineIndex\"]) + layer[note[\"_lineLayer\"]] + colour[note[\"_type\"]] + cut_dir[note[\"_cutDirection\"]]\n",
    "#     except:\n",
    "#         print(note)\n",
    "#         raise\n",
    "\n",
    "def encode_block(note, light):\n",
    "    seq = (\n",
    "        str(note[\"_lineIndex\"]) \n",
    "        + layer[note[\"_lineLayer\"]] \n",
    "        + colour[note[\"_type\"]] \n",
    "        + cut_dir[note[\"_cutDirection\"]]\n",
    "    )\n",
    "\n",
    "    if light != False:\n",
    "        seq = seq + lighting_type[light['_type']] + lighting_value[light['_value']]\n",
    "    else:\n",
    "        seq = seq + lighting_type[random.randint(0,5)] + lighting_value[0]\n",
    "    \n",
    "    return seq\n",
    "\n",
    "def decode_pattern(base, precision, seq):\n",
    "    seqs = json.loads(seq)\n",
    "    outputs = [] \n",
    "    \n",
    "    for i in range(len(seqs)):\n",
    "        for j in range(len(seqs[i])):\n",
    "            outputs.append({\n",
    "                \"_time\": base+(i/precision),\n",
    "                \"_lineIndex\": int(seqs[i][j][0]),\n",
    "                \"_lineLayer\": layer.index(seqs[i][j][1]),\n",
    "                \"_type\": colour.index(seqs[i][j][2]),\n",
    "                \"_cutDirection\":  cut_dir.index(seqs[i][j][3])            \n",
    "            })\n",
    "    return outputs\n",
    "\n",
    "def decode_lighting(base, precision, seq):\n",
    "    seqs = json.loads(seq)\n",
    "    lights = []\n",
    "    \n",
    "    for i in range(len(seqs)):\n",
    "        for j in range(len(seqs[i])):\n",
    "            lights.append({\n",
    "                \"_time\": base+(i/precision),\n",
    "                \"_type\": lighting_type.index(seqs[i][j][4]),\n",
    "                \"_value\": lighting_value.index(seqs[i][j][5])\n",
    "            })\n",
    "    return lights\n",
    "\n",
    "assert encode_block(sample_block, sample_light) == \"3abwbf\", f\"the output from encoding isn't matching expectations\"\n",
    "assert json.dumps(decode_pattern(sample_block['_time'], precision, '[[\"3abwbf\"]]')) == json.dumps([sample_block]), f\"decoded pattern isn't matching the original block\"\n",
    "assert json.dumps(decode_lighting(sample_light['_time'], precision, '[[\"3abwbf\"]]')) == json.dumps([sample_light]), f\"decoded pattern isn't matching the original block\"\n"
   ]
  },
  {
   "cell_type": "markdown",
   "id": "supreme-enhancement",
   "metadata": {},
   "source": [
    "## Training functions"
   ]
  },
  {
   "cell_type": "code",
   "execution_count": 10,
   "id": "commercial-humidity",
   "metadata": {},
   "outputs": [],
   "source": [
    "# received a track sequence, non encoded in json, returns the last part encoded in a json string\n",
    "def extract_last_pattern(seq, sequence_length, precision):\n",
    "    return json.dumps(seq[-(sequence_length * precision):])\n",
    "\n",
    "def remember_patterns(track, sequence_length, precision):\n",
    "    global following\n",
    "    \n",
    "    previous_pattern = \"\"\n",
    "    previous_end = \"\"\n",
    "\n",
    "    for i in range(len(track)):\n",
    "        current_pattern = json.dumps(track[i])    \n",
    "        if previous_pattern not in following.keys():\n",
    "            following[previous_pattern] = []\n",
    "\n",
    "        following[previous_pattern].append(current_pattern)     \n",
    "        previous_pattern = current_pattern \n",
    "        \n",
    "        \n",
    "        current_end = json.dumps(track[i][-precision:])\n",
    "        previous_end = current_end \n",
    "\n",
    "def give_me_following(full_encoded_seq, sequence_length, precision):\n",
    "    decoded_seq = json.loads(full_encoded_seq)\n",
    "    \n",
    "    last_pattern = extract_last_pattern(decoded_seq, sequence_length, precision)\n",
    "    \n",
    "    return last_pattern"
   ]
  },
  {
   "cell_type": "markdown",
   "id": "encouraging-discovery",
   "metadata": {},
   "source": [
    "## File processing functions"
   ]
  },
  {
   "cell_type": "code",
   "execution_count": 11,
   "id": "excessive-equipment",
   "metadata": {
    "scrolled": false
   },
   "outputs": [],
   "source": [
    "def read_track_file(base_folder, song_output_folder, difficulty_file):\n",
    "    filename = \"{}/{}/{}\".format(base_folder, song_output_folder, difficulty_file)\n",
    "    \n",
    "    if exists(filename):\n",
    "        with open(filename) as f:\n",
    "            return json.load(f)\n",
    "    \n",
    "    print(\"File '{}/{}' not found. skipping folder\".format(song_output_folder, difficulty_file))\n",
    "    return False\n",
    "\n",
    "def find_lighting_for_note(lightings, t):\n",
    "    for event in lightings:\n",
    "        if event['_time'] > t:\n",
    "            return False\n",
    "        elif event['_time'] == t:\n",
    "            return event\n",
    "    \n",
    "    return False\n",
    "\n",
    "def convert_json_to_patterns(file, sequence_length, precision, content):\n",
    "    if \"_notes\" not in content.keys() or \"_events\" not in content.keys():\n",
    "        print(\"* this is a new song:\", file)\n",
    "        print(content.keys())\n",
    "        return False\n",
    "    \n",
    "    first_note = math.floor(content[\"_notes\"][0][\"_time\"])\n",
    "    last_note = content[\"_notes\"][-1][\"_time\"]\n",
    "    \n",
    "    nb_sequence = int(((last_note - first_note)) / sequence_length)+1\n",
    "    \n",
    "    print(\"file: {}, first_note: {}, last_note: {}, precision: {}, nb_sequences: {}\".format(\n",
    "        file, first_note, last_note, precision, nb_sequence\n",
    "    ))\n",
    "    \n",
    "    # initializing an empty list that will keep track of the notes\n",
    "    track = [[[] for y in range(sequence_length * precision)] for x in range(int(nb_sequence))]\n",
    "    \n",
    "    for note, block in enumerate(content[\"_notes\"]):\n",
    "        index = int(block[\"_time\"])\n",
    "        subindex = int((block[\"_time\"] - index) * precision)\n",
    "        idx = (index - first_note) * precision + subindex\n",
    "        seq = idx//(sequence_length*precision)\n",
    "        pos = idx%(sequence_length*precision)\n",
    "\n",
    "        encoded = encode_block(block, find_lighting_for_note(content[\"_events\"], block[\"_time\"]))\n",
    "        try:\n",
    "            track[seq][pos].append(encoded)\n",
    "        except:\n",
    "            print(filename, note, seq, pos, idx, block)\n",
    "            raise\n",
    "            \n",
    "    return track\n",
    "        \n",
    "\n",
    "def process_file(folder, file, difficulty, precision, sequence_length):\n",
    "    notes_json = read_track_file(folder, file, difficulty)\n",
    "    \n",
    "    if notes_json != False:\n",
    "        track = convert_json_to_patterns(file, sequence_length, precision, notes_json)        \n",
    "        \n",
    "        if track != False:\n",
    "            remember_patterns(track, sequence_length, precision)"
   ]
  },
  {
   "cell_type": "markdown",
   "id": "direct-characterization",
   "metadata": {},
   "source": [
    "## Song processing\n",
    "\n",
    "This section goes through all training files and register transitions in the `following` global variable."
   ]
  },
  {
   "cell_type": "code",
   "execution_count": 12,
   "id": "informative-collar",
   "metadata": {},
   "outputs": [
    {
     "name": "stdout",
     "output_type": "stream",
     "text": [
      "file: 1a0b9 (Lone Digger - Nixie.Korten), first_note: 4, last_note: 347.5, precision: 8, nb_sequences: 172\n",
      "file: 1a0be (Wonderland - Nixie.Korten), first_note: 15, last_note: 323.25, precision: 8, nb_sequences: 155\n",
      "file: 1f5a3 (もーいいかい - misterlihao), first_note: 8, last_note: 317.5, precision: 8, nb_sequences: 155\n",
      "file: 1f767 (アリスブルー - misterlihao), first_note: 8, last_note: 534, precision: 8, nb_sequences: 264\n",
      "file: 205d1 (くうになる - misterlihao), first_note: 6, last_note: 422, precision: 8, nb_sequences: 209\n",
      "file: 20ac4 (About You - DeeDee), first_note: 3, last_note: 367, precision: 8, nb_sequences: 183\n",
      "file: 20ac8 (Pepas - Dee-Dee), first_note: 5, last_note: 613, precision: 8, nb_sequences: 305\n",
      "file: 21307 (ただ声一つ - misterlihao), first_note: 8, last_note: 335.5, precision: 8, nb_sequences: 164\n",
      "file: 21333 (全部君のせいだ - misterlihao), first_note: 8, last_note: 551, precision: 8, nb_sequences: 272\n",
      "file: 21979 (フクロウさん - misterlihao), first_note: 20, last_note: 483, precision: 8, nb_sequences: 232\n",
      "file: 22846 (バニー - misterlihao), first_note: 8, last_note: 455, precision: 8, nb_sequences: 224\n",
      "file: 22e63 ( - misterlihao), first_note: 8, last_note: 415, precision: 8, nb_sequences: 204\n",
      "file: 240f4 (Loco - Dee-Dee), first_note: 4, last_note: 480, precision: 8, nb_sequences: 239\n",
      "file: 24829 (まってるよ - misterlihao), first_note: 20, last_note: 467, precision: 8, nb_sequences: 224\n",
      "file: 24b52 (今日とまだバイバイしたくないの - misterlihao), first_note: 8, last_note: 231.375, precision: 8, nb_sequences: 112\n",
      "file: 24f18 (和音 - misterlihao), first_note: 8, last_note: 540, precision: 8, nb_sequences: 267\n",
      "file: 250af (うらたねこ♀ - misterlihao), first_note: 8, last_note: 422, precision: 8, nb_sequences: 208\n",
      "file: 2528b (おにけもだんす - misterlihao), first_note: 16, last_note: 846, precision: 8, nb_sequences: 416\n",
      "file: 25306 (AHAREN HEART - misterlihao), first_note: 4, last_note: 172.031, precision: 8, nb_sequences: 85\n",
      "file: 254a8 (感情ディシーブ - misterlihao), first_note: 8, last_note: 351.5, precision: 8, nb_sequences: 172\n",
      "file: 25a6b (Supersonic - Dee-Dee), first_note: 12, last_note: 380, precision: 8, nb_sequences: 185\n",
      "file: 260d1 (えすけーぷ - misterlihao), first_note: 8, last_note: 358, precision: 8, nb_sequences: 176\n",
      "file: 270ed (WOW BB - DeeDee), first_note: 3, last_note: 404, precision: 8, nb_sequences: 201\n",
      "file: 271da (All Night - Nixie.Korten), first_note: 4, last_note: 335, precision: 8, nb_sequences: 166\n",
      "file: 271db (Bom Bom - Nixie.Korten), first_note: 4, last_note: 355.667, precision: 8, nb_sequences: 176\n",
      "file: 271df (Perfume - Nixie.Korten), first_note: 6, last_note: 606, precision: 8, nb_sequences: 301\n",
      "file: 271e0 (Light Up The Night - Nixie.Korten), first_note: 4, last_note: 475.5, precision: 8, nb_sequences: 236\n",
      "file: 271e1 (Mr Magpie - Nixie.Korten), first_note: 4, last_note: 416, precision: 8, nb_sequences: 207\n",
      "file: 271e4 (Wake Up Romeo - Nixie.Korten), first_note: 4, last_note: 362, precision: 8, nb_sequences: 180\n",
      "file: 27593 (推し変なんて許さない！ - misterlihao), first_note: 8, last_note: 634, precision: 8, nb_sequences: 314\n",
      "file: 27a7d (Calabria - DeeDee), first_note: 4, last_note: 264.281, precision: 8, nb_sequences: 131\n"
     ]
    }
   ],
   "source": [
    "following = {}\n",
    "\n",
    "for file in notes_files:\n",
    "    process_file(customLevels_folder, file, difficulty, precision, sequence_length)"
   ]
  },
  {
   "cell_type": "markdown",
   "id": "colonial-cameroon",
   "metadata": {},
   "source": [
    "## Audio File Analysis\n",
    "\n",
    "This sections is an attempt to naively detect variations in the song. Using these variations, we can compare them against potential following sequences of blocks, and see which one might be a better fit given the density of the noise."
   ]
  },
  {
   "cell_type": "code",
   "execution_count": 13,
   "id": "willing-orleans",
   "metadata": {},
   "outputs": [],
   "source": [
    "audio_file_wav = audio_file + \".wav\"\n",
    "\n",
    "data, samplerate = sf.read(audio_file)\n",
    "if not exists(audio_file_wav):\n",
    "    sf.write(audio_file_wav, data, samplerate)\n",
    "\n",
    "Fs, aud = wavfile.read(audio_file_wav)\n",
    "\n",
    "# once the audio file is processed, we don't need the wave file anymore.\n",
    "if exists(audio_file_wav):\n",
    "    os.remove(audio_file_wav)"
   ]
  },
  {
   "cell_type": "code",
   "execution_count": 14,
   "id": "assigned-copying",
   "metadata": {},
   "outputs": [
    {
     "name": "stdout",
     "output_type": "stream",
     "text": [
      "Folder: Alphaville - Big In Japan - 97.79\n",
      "file: song.ogg\n",
      "bpm: 97.79000091552734\n",
      "bps: 1.6298333485921224\n",
      "seconds per beat: 0.6135596629335244\n",
      "audio samples per beat: 27057\n"
     ]
    }
   ],
   "source": [
    "song_bpm = info_dat[\"_beatsPerMinute\"]\n",
    "song_bps = song_bpm/60\n",
    "song_spb = 60/song_bpm\n",
    "sample_per_beat = int(Fs * song_spb)\n",
    "\n",
    "print(f\"Folder: {song_output_folder}\\nfile: {song_file_name}\\nbpm: {song_bpm}\\nbps: {song_bps}\\nseconds per beat: {song_spb}\\naudio samples per beat: {sample_per_beat}\")"
   ]
  },
  {
   "cell_type": "markdown",
   "id": "constant-necessity",
   "metadata": {},
   "source": [
    "## spectogram of the left channel"
   ]
  },
  {
   "cell_type": "code",
   "execution_count": 15,
   "id": "simplified-peninsula",
   "metadata": {},
   "outputs": [
    {
     "name": "stderr",
     "output_type": "stream",
     "text": [
      "/home/simon/.virtualenvs/py38/lib/python3.8/site-packages/matplotlib/axes/_axes.py:7553: RuntimeWarning: divide by zero encountered in log10\n",
      "  Z = 10. * np.log10(spec)\n"
     ]
    },
    {
     "data": {
      "image/png": "[encoded data removed]",
      "text/plain": [
       "<Figure size 432x288 with 1 Axes>"
      ]
     },
     "metadata": {
      "needs_background": "light"
     },
     "output_type": "display_data"
    }
   ],
   "source": [
    "aud_left = aud[:,0] # select left channel only\n",
    "\n",
    "powerSpectrum, frequenciesFound, time, imageAxis = plt.specgram(aud_left, Fs=Fs)\n",
    "plt.show()"
   ]
  },
  {
   "cell_type": "code",
   "execution_count": 17,
   "id": "noted-escape",
   "metadata": {},
   "outputs": [],
   "source": [
    "positive_aud_left = [abs(x) for x in aud_left]\n",
    "\n",
    "range3 = max(positive_aud_left)\n",
    "range0 = range3 / 10\n",
    "\n",
    "break_down = []\n",
    "\n",
    "for beat in range(int(len(positive_aud_left)/sample_per_beat)):\n",
    "    for p in range(precision):\n",
    "        boundary_left = int((beat * sample_per_beat) + (p * (sample_per_beat/precision)))\n",
    "        boundary_right = int(boundary_left + ((p+1) * (sample_per_beat/precision)))\n",
    "        \n",
    "        noise_left = int(np.mean(positive_aud_left[boundary_left:boundary_right]))\n",
    "\n",
    "        break_down.append(int(noise_left//range0))"
   ]
  },
  {
   "cell_type": "code",
   "execution_count": 18,
   "id": "piano-duplicate",
   "metadata": {},
   "outputs": [
    {
     "name": "stdout",
     "output_type": "stream",
     "text": [
      "2665.8 26658\n"
     ]
    }
   ],
   "source": [
    "print(range0, range3) "
   ]
  },
  {
   "cell_type": "code",
   "execution_count": 19,
   "id": "veterinary-eight",
   "metadata": {},
   "outputs": [
    {
     "name": "stdout",
     "output_type": "stream",
     "text": [
      "16 368\n"
     ]
    }
   ],
   "source": [
    "print(first_beat, last_beat)\n",
    "trimmed_intensity = break_down[(first_beat)*precision:]"
   ]
  },
  {
   "cell_type": "code",
   "execution_count": 20,
   "id": "expanded-major",
   "metadata": {},
   "outputs": [
    {
     "name": "stdout",
     "output_type": "stream",
     "text": [
      "beginning...\n",
      "[0, 0, 0, 0, 0, 0, 0, 0, 0, 0, 0, 0, 0, 0, 0, 0, 0, 0, 0, 0, 0, 0, 0, 0, 0, 0, 0, 0, 0, 0, 0, 0, 0, 0, 0, 0, 0, 0, 0, 0, 0, 0, 0, 0, 0, 0, 0, 0, 0, 0, 0, 0, 0, 0, 0, 0, 0, 0, 0, 0, 0, 0, 0, 0, 0, 0, 0, 0, 0, 0, 0, 0, 0, 0, 0, 0, 0, 0, 0, 0, 0, 0, 0, 0, 0, 0, 0, 0, 0, 0, 0, 0, 0, 0, 0, 0, 0, 0, 0, 0, 0, 0, 0, 0, 0, 0, 0, 0, 0, 0, 0, 0, 0, 0, 0, 0, 0, 0, 0, 0, 0, 0, 0, 0, 0, 0, 0, 1] * [2, 0, 0, 0, 1, 1, 1, 1, 2, 1, 1, 1, 1, 1, 1, 1, 2, 1, 0, 0, 1, 1, 1, 1, 2, 0, 1, 1, 1, 1, 1, 1, 2, 1, 1, 1, 1, 1, 1, 1, 2, 1, 1, 1, 1, 1, 1, 1, 2, 1, 0, 0, 1, 1, 1, 1, 3, 1, 1, 1, 1, 1, 1, 1, 2, 1, 1, 1, 1, 1, 1, 1, 3, 1, 1, 1, 1, 1, 1, 1, 2, 1, 0, 0, 1, 1, 1, 1, 3, 0, 1, 1, 1, 1, 1, 1, 3, 1, 0, 0, 1, 1, 1, 1, 3, 0, 1, 1, 1, 1, 1, 1, 2, 1, 0, 1, 1, 1, 1, 1, 3, 1, 1, 1, 1, 1, 1, 1]\n",
      "...end\n",
      "[0, 0, 0, 0, 0, 0, 0, 0, 0, 0, 0, 0, 0, 0, 0, 0, 0, 0, 0, 0, 0, 0, 0, 1, 2, 0, 0, 0, 1, 1, 1, 1, 2, 1, 1, 1, 1, 1, 1, 1, 2, 1, 0, 0, 1, 1, 1, 1, 2, 0, 1, 1, 1, 1, 1, 1, 2, 1, 1, 1, 1, 1, 1, 1, 2, 1, 1, 1, 1, 1, 1, 1, 2, 1, 0, 0, 1, 1, 1, 1, 3, 1, 1, 1, 1, 1, 1, 1, 2, 1, 1, 1, 1, 1, 1, 1, 3, 1, 1, 1, 1, 1, 1, 1, 2, 1, 0, 0, 1, 1, 1, 1, 3, 0, 1, 1, 1, 1, 1, 1, 3, 1, 0, 0, 1, 1, 1, 1, 3, 0, 1, 1, 1, 1, 1, 1, 2, 1, 0, 1, 1, 1, 1, 1, 3, 1, 1, 1, 1, 1, 1, 1, 3, 1, 0, 1, 1, 1, 1, 1, 2, 1, 1, 1, 1, 1, 1, 1, 2, 1, 1, 1, 1, 1, 1, 1, 3, 1, 1, 1, 1, 1, 1, 1, 2, 1, 0, 0, 1, 1, 1, 1, 3, 1, 1, 1, 1, 1, 1, 1, 3, 1, 1, 1, 1, 1, 1, 1, 3, 0, 1, 1, 1, 1, 1, 1, 2, 1, 1, 1, 1, 1, 1, 1, 3, 1, 1, 1, 1, 1, 1, 1, 3, 1, 0, 0, 1, 1, 1, 1, 2, 0, 1, 1, 1, 1, 1, 1, 3, 1, 0, 0, 1, 1, 1, 1, 3, 0, 0, 1, 1, 1, 1, 1] * [3, 2, 2, 2, 2, 2, 2, 2, 2, 2, 2, 2, 2, 2, 2, 2, 2, 1, 2, 2, 2, 2, 2, 2, 2, 2, 1, 1, 1, 2, 2, 2, 3, 2, 1, 2, 2, 2, 2, 2, 2, 1, 1, 1, 2, 2, 2, 1, 3, 2, 1, 1, 1, 2, 1, 1, 2, 2, 1, 1, 1, 1, 1, 2, 3, 1, 1, 2, 2, 2, 1, 1, 2, 2, 1, 1, 2, 1, 2, 2, 3, 1, 2, 2, 2, 2, 1, 1, 2, 2, 1, 1, 1, 1, 2, 2, 2, 1, 1, 1, 2, 2, 2, 2, 3, 2, 1, 1, 2, 2, 1, 1, 3, 1, 1, 1, 1, 2, 2, 2, 2, 2, 2, 2, 2, 2, 2, 2, 2, 2, 1, 2, 2, 2, 2, 2, 2, 2, 2, 1, 2, 1, 1, 1, 2, 1, 1, 1, 1, 1, 1, 1, 2, 1, 1, 0, 1, 1, 1, 1, 2, 1, 1, 1, 1, 1, 1, 1, 2, 1, 1, 1, 1, 1, 1, 1, 2, 1, 1, 1, 1, 1, 1, 1, 2, 1, 1, 1, 1, 1, 1, 1, 2, 1, 1, 1, 1, 1, 1, 1, 2, 1, 1, 1, 1, 1, 1, 1, 2, 1, 1, 1, 1, 1, 1, 1, 2, 1, 1, 1, 1, 1, 1, 1, 2, 1, 1, 1, 1, 1, 1, 1, 2, 1, 1, 1, 1, 1, 1, 1, 2, 1, 1, 1, 1, 1, 1, 1, 2, 2, 1, 1, 1, 1, 1, 1, 2, 1, 1, 1, 2, 2, 2, 2, 2, 2, 2, 2, 2, 2, 2, 1, 2, 2, 2, 1, 1, 1, 1, 1, 1, 1, 1, 1, 1, 1, 1, 1, 1, 1, 1, 1, 1, 0, 0, 0, 0, 0, 0, 0, 0, 0, 0, 0, 0, 0, 0, 0, 0, 0, 0, 0, 0, 0, 0, 0, 0, 0, 0, 0, 0, 0, 0, 0, 0, 0, 0, 0, 0, 0, 0, 0, 0, 0, 0, 0, 0, 0, 0, 0, 0, 0, 0, 0, 0, 0, 0, 0, 0, 0, 0, 0, 0, 0, 0, 0, 0, 0, 0, 0, 0, 0, 0, 0, 0, 0, 0, 0]\n"
     ]
    }
   ],
   "source": [
    "print('beginning...')\n",
    "print(break_down[:first_beat*(precision)], '*', break_down[first_beat*precision:(first_beat*sequence_length*precision)])\n",
    "print('...end')\n",
    "print(break_down[-(last_beat*precision):last_beat], '*', break_down[-last_beat:])"
   ]
  },
  {
   "cell_type": "markdown",
   "id": "legendary-contact",
   "metadata": {},
   "source": [
    "## Selecting the best sequence candidate compared to the song intensity\n",
    "\n",
    "The method used is trying to generate collisions between the audio intensity and potential candidates. The higher the number of collisions, the more likely the intensity should match.\n",
    "\n",
    "Here is an example of audio intensity calculated earlier.\n",
    "`[3, 4, 2, 2, 2, 2, 2, 2, 2, 2, 2, 3, 3, 3, 2, 2]`\n",
    "\n",
    "The candidate sequences are converted in number of blocks per step. One block = 1, 2 blocks (blue or red) = 2, etc.\n",
    "```\n",
    "[1 0 0 0 0 0 0 0 1 0 0 0 0 0 0 0]\n",
    "[1 0 0 0 1 0 0 0 1 0 0 0 0 0 0 0]\n",
    "[0 0 0 0 1 0 0 0 0 0 0 0 1 0 0 0]\n",
    "[1 0 0 0 1 0 0 0 1 0 0 0 1 0 0 0]\n",
    "[0 0 0 0 0 0 0 1 0 0 0 0 0 0 1 0]\n",
    "[1 0 0 0 1 0 1 0 0 0 1 0 0 0 1 0]\n",
    "[1 0 0 0 1 0 1 0 0 0 1 0 0 0 0 0]\n",
    "[2 0 0 0 0 0 0 0 0 0 0 0 0 0 0 0]\n",
    "[1 0 0 0 1 0 0 0 1 0 0 0 1 0 0 0]\n",
    "[1 0 0 0 1 0 0 0 1 0 0 0 0 0 0 0]\n",
    "[1 0 1 0 0 0 0 0 1 0 0 0 0 0 0 0]\n",
    "[1 0 0 0 0 0 1 0 1 0 0 0 0 0 1 0]\n",
    "```\n",
    "\n",
    "By multiplying one array by the other, and calculating the sum of the results, we can get a score value. The higher the score, the better it should match.\n",
    "\n",
    "Here are two examples:"
   ]
  },
  {
   "cell_type": "code",
   "execution_count": 21,
   "id": "floating-brave",
   "metadata": {},
   "outputs": [
    {
     "name": "stdout",
     "output_type": "stream",
     "text": [
      "audio intensity: [3 4 2 2 2 2 2 2 2 2 2 3 3 3 2 2]\n",
      "* candidate: [1 0 0 0 0 0 0 0 1 0 0 0 0 0 0 0]\n",
      "* multiplication result: [3 0 0 0 0 0 0 0 2 0 0 0 0 0 0 0]\n",
      "* sum of the results (score): 5\n",
      "audio intensity: [3 4 2 2 2 2 2 2 2 2 2 3 3 3 2 2]\n",
      "* candidate: [2 0 0 0 0 0 0 0 0 0 0 0 0 0 0 0]\n",
      "* multiplication result: [6 0 0 0 0 0 0 0 0 0 0 0 0 0 0 0]\n",
      "* sum of the results (score): 6\n",
      "audio intensity: [3 4 2 2 2 2 2 2 2 2 2 3 3 3 2 2]\n",
      "* candidate: [1 0 0 0 1 0 1 0 0 0 1 0 0 0 1 0]\n",
      "* multiplication result: [3 0 0 0 2 0 2 0 0 0 2 0 0 0 2 0]\n",
      "* sum of the results (score): 11\n"
     ]
    }
   ],
   "source": [
    "audio_sequence = [3, 4, 2, 2, 2, 2, 2, 2, 2, 2, 2, 3, 3, 3, 2, 2]\n",
    "bad_candidate = [1, 0, 0, 0, 0, 0, 0, 0, 1, 0, 0, 0, 0, 0, 0, 0]\n",
    "best_candidate = [1, 0, 0, 0, 1, 0, 1, 0, 0, 0, 1, 0, 0, 0, 1, 0]\n",
    "good_candidate = [2, 0, 0, 0, 0, 0, 0, 0, 0, 0, 0, 0, 0, 0, 0, 0]\n",
    "\n",
    "def test_selection(audio_sequence, candidate):\n",
    "    a = np.array(audio_sequence)\n",
    "    c = np.array(candidate)\n",
    "    r = a * c\n",
    "    print('audio intensity:', a)\n",
    "    print('* candidate:', c)\n",
    "    print('* multiplication result:', r)\n",
    "    print('* sum of the results (score):', sum(r))\n",
    "\n",
    "\n",
    "test_selection(audio_sequence, bad_candidate)\n",
    "test_selection(audio_sequence, good_candidate)\n",
    "test_selection(audio_sequence, best_candidate)\n",
    "    "
   ]
  },
  {
   "cell_type": "code",
   "execution_count": 22,
   "id": "adjustable-adolescent",
   "metadata": {},
   "outputs": [],
   "source": [
    "def select(array, audio_sample):\n",
    "    best_fits = []\n",
    "    \n",
    "    np_audio_sample = np.array(audio_sample)\n",
    "    \n",
    "    for i, a in enumerate(array):    \n",
    "        decoded = json.loads(a)\n",
    "        candidates = np.array([len(x) for x in decoded])\n",
    "\n",
    "        score = candidates[:len(np_audio_sample)] * np_audio_sample\n",
    "        best_fits.append(sum(score))\n",
    "\n",
    "    election = [i for i in range(len(best_fits)) if best_fits[i] == max(best_fits)]\n",
    "    selected = array[random.choice(election)]\n",
    "\n",
    "    if False:\n",
    "        print(audio_sample)\n",
    "        print(election)\n",
    "        print(len(array), max(best_fits), len(candidates), 'selected:', selected)\n",
    "    \n",
    "    return random.choice(array)  "
   ]
  },
  {
   "cell_type": "markdown",
   "id": "trained-alabama",
   "metadata": {},
   "source": [
    "## generating the sequence of blocks for the song.\n",
    "\n",
    "This is where we generate the sequence of blocks.\n",
    "\n",
    "The `base` is the `first_beat`, and it will continue to select sequences of blocks until it reaches the `last_beat`.\n",
    "These two variables are defined at the top of the notebook, and need to be configured manually. They can be found by matching the beats to the audio in Mediocre Map Assistant 2 (MMA2). Since the loop generates sequences of `sequence_length` (normally 2 beats), it might be necessary to manually add or delete blocks at the end.\n",
    "\n",
    "The loop starts by setting the `current_pattern` to blank, the code will select the opening sequences (based on the training songs) that better matches the current audio intensity.\n",
    "\n",
    "The selected sequence will be checked against potential following sequences (variable `following` trained earlier). If somehow there is no known following sequence to the current_pattern, then the code will recover by selecting a new pattern from the opening ones."
   ]
  },
  {
   "cell_type": "code",
   "execution_count": 23,
   "id": "soviet-minnesota",
   "metadata": {},
   "outputs": [],
   "source": [
    "base = first_beat\n",
    "\n",
    "current_pattern = \"\"\n",
    "new_track = []\n",
    "new_lights = []\n",
    "random.seed(42)\n",
    "\n",
    "beat = 0\n",
    "while base < last_beat:    \n",
    "    l = beat * precision * sequence_length\n",
    "    r = (beat+1) * precision * sequence_length\n",
    "    audio_sample = trimmed_intensity[l:r]\n",
    "\n",
    "    if current_pattern in following.keys():\n",
    "        pattern = select(following[current_pattern], audio_sample)\n",
    "    else:\n",
    "        pattern = select(following[\"\"], audio_sample)\n",
    "        \n",
    "    decoded = decode_pattern(base, precision, pattern)\n",
    "    new_track = new_track + decoded\n",
    "    \n",
    "    decoded_light = decode_lighting(base, precision, pattern)\n",
    "    new_lights = new_lights + decoded_light\n",
    "    \n",
    "    current_pattern = give_me_following(pattern, sequence_length, precision)\n",
    "\n",
    "    base += sequence_length\n",
    "    beat+=1"
   ]
  },
  {
   "cell_type": "markdown",
   "id": "dietary-institution",
   "metadata": {},
   "source": [
    "## saving the generated sequence in the output track file.\n",
    "\n",
    "If it crashes here because the output file does not exists, you might need to generate it by added on random block to the level in MMA2, then save. The file isn't created until something is added to it."
   ]
  },
  {
   "cell_type": "code",
   "execution_count": 24,
   "id": "natural-fisher",
   "metadata": {},
   "outputs": [],
   "source": [
    "with open(output_file) as f:\n",
    "    output_song = json.load(f)\n",
    "\n",
    "output_song[\"_notes\"] = new_track\n",
    "output_song[\"_events\"] = new_lights\n",
    "\n",
    "with open(output_file, 'w') as f:\n",
    "    f.write(json.dumps(output_song))"
   ]
  },
  {
   "cell_type": "markdown",
   "id": "rubber-bankruptcy",
   "metadata": {},
   "source": [
    "## Conclusion\n",
    "\n",
    "With the initial version of the code, I generated this mapping for [Big In Japan by Alphaville](https://youtu.be/_IYjBCLKmBE). That virst version was not adding lighting effects.\n",
    "\n",
    "The code in this notebook was also used to generate a mapping for [Maria (I Like It Loud) by Scooter](https://www.youtube.com/watch?v=iQaO4YG7Su0), but his time with lighting effects.\n",
    "\n",
    "Obviously it will never match the quality of a talented mapper. Still, it's playable. More than everything, it was fun to code."
   ]
  }
 ],
 "metadata": {
  "kernelspec": {
   "display_name": "Python 3",
   "language": "python",
   "name": "python3"
  },
  "language_info": {
   "codemirror_mode": {
    "name": "ipython",
    "version": 3
   },
   "file_extension": ".py",
   "mimetype": "text/x-python",
   "name": "python",
   "nbconvert_exporter": "python",
   "pygments_lexer": "ipython3",
   "version": "3.8.10"
  }
 },
 "nbformat": 4,
 "nbformat_minor": 5
}
